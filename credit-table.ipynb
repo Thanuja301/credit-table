{
 "cells": [
  {
   "cell_type": "code",
   "execution_count": 1,
   "id": "00bdfa62-a8da-4452-b917-b647c5d3949b",
   "metadata": {},
   "outputs": [],
   "source": [
    "from bs4 import BeautifulSoup"
   ]
  },
  {
   "cell_type": "code",
   "execution_count": 39,
   "id": "b2f34a4d-b9cd-439f-a515-226cb6f6b198",
   "metadata": {},
   "outputs": [
    {
     "name": "stdout",
     "output_type": "stream",
     "text": [
      "<class 'str'>\n"
     ]
    }
   ],
   "source": [
    "import requests\n",
    "response=requests.get(\"https://visaguide.world/asia/\")\n",
    "print(type(response.text))"
   ]
  },
  {
   "cell_type": "code",
   "execution_count": 15,
   "id": "336ed602-5ac9-4ab9-b986-b7a51f263cb2",
   "metadata": {},
   "outputs": [],
   "source": [
    "html_doc=response.text"
   ]
  },
  {
   "cell_type": "code",
   "execution_count": 17,
   "id": "7128b120-3105-44cf-be2b-5464a95a94d6",
   "metadata": {},
   "outputs": [],
   "source": [
    "soup=BeautifulSoup(html_doc,\"html.parser\")"
   ]
  },
  {
   "cell_type": "code",
   "execution_count": 23,
   "id": "fedbb2ef-7016-4405-8943-facd50331b84",
   "metadata": {},
   "outputs": [
    {
     "data": {
      "text/plain": [
       "3"
      ]
     },
     "execution_count": 23,
     "metadata": {},
     "output_type": "execute_result"
    }
   ],
   "source": [
    "tables=soup.find_all(\"table\")\n",
    "len(tables)"
   ]
  },
  {
   "cell_type": "code",
   "execution_count": 31,
   "id": "637b42a9-26f2-4c66-815d-d780b5ebafd4",
   "metadata": {},
   "outputs": [
    {
     "data": {
      "text/plain": [
       "[<th>Country</th>,\n",
       " <th>Capital</th>,\n",
       " <th>Area km2</th>,\n",
       " <th>Population (2021)</th>]"
      ]
     },
     "execution_count": 31,
     "metadata": {},
     "output_type": "execute_result"
    }
   ],
   "source": [
    "headings=tables[1].find_all(\"th\")\n",
    "headings"
   ]
  },
  {
   "cell_type": "code",
   "execution_count": 35,
   "id": "b1166fef-8506-42fe-ab34-214fc08c449b",
   "metadata": {},
   "outputs": [
    {
     "data": {
      "text/plain": [
       "[<td>Afghanistan</td>,\n",
       " <td>Kabul</td>,\n",
       " <td>652,864</td>,\n",
       " <td>39,835,428</td>,\n",
       " <td>Armenia</td>,\n",
       " <td>Yerevan</td>,\n",
       " <td>29,743</td>,\n",
       " <td>2,968,127</td>,\n",
       " <td>Azerbaijan</td>,\n",
       " <td>Baku</td>,\n",
       " <td>86,600</td>,\n",
       " <td>10,223,342</td>,\n",
       " <td>Bahrain</td>,\n",
       " <td>Manama</td>,\n",
       " <td>760</td>,\n",
       " <td>1,748,296</td>,\n",
       " <td>Bangladesh</td>,\n",
       " <td>Dhaka</td>,\n",
       " <td>147,570</td>,\n",
       " <td>166,303,498</td>,\n",
       " <td>Bhutan</td>,\n",
       " <td>Thimphu</td>,\n",
       " <td>38,394</td>,\n",
       " <td>779,898</td>,\n",
       " <td>Brunei</td>,\n",
       " <td>Bandar Seri Begawan</td>,\n",
       " <td>5,765</td>,\n",
       " <td>441,532</td>,\n",
       " <td>Cambodia</td>,\n",
       " <td>Phnom Penh</td>,\n",
       " <td>181,035</td>,\n",
       " <td>16,946,438</td>,\n",
       " <td>China (PRC)</td>,\n",
       " <td>Beijing</td>,\n",
       " <td>9,596,961</td>,\n",
       " <td>1,444,216,107</td>,\n",
       " <td>East Timor</td>,\n",
       " <td>Dili</td>,\n",
       " <td>14,874</td>,\n",
       " <td>1,343,873</td>,\n",
       " <td>Georgia</td>,\n",
       " <td>Tbilisi</td>,\n",
       " <td>69,700</td>,\n",
       " <td>3,979,765</td>,\n",
       " <td>Hong Kong</td>,\n",
       " <td>City of Victoria</td>,\n",
       " <td>2,755</td>,\n",
       " <td>7,552,810</td>,\n",
       " <td>India</td>,\n",
       " <td>New Delhi</td>,\n",
       " <td>3,287,263</td>,\n",
       " <td>1,393,409,038</td>,\n",
       " <td>Indonesia</td>,\n",
       " <td>Jakarta</td>,\n",
       " <td>1,904,569</td>,\n",
       " <td>276,361,783</td>,\n",
       " <td>Iran</td>,\n",
       " <td>Tehran</td>,\n",
       " <td>1,648,195</td>,\n",
       " <td>85,028,759</td>,\n",
       " <td>Iraq</td>,\n",
       " <td>Baghdad</td>,\n",
       " <td>438,317</td>,\n",
       " <td>41,179,350</td>,\n",
       " <td>Israel</td>,\n",
       " <td>Jerusalem (disputed)</td>,\n",
       " <td>20,770</td>,\n",
       " <td>8,789,774</td>,\n",
       " <td>Japan</td>,\n",
       " <td>Tokyo</td>,\n",
       " <td>377,915</td>,\n",
       " <td>126,050,804</td>,\n",
       " <td>Jordan</td>,\n",
       " <td>Amman</td>,\n",
       " <td>89,342</td>,\n",
       " <td>10,269,021</td>,\n",
       " <td>Kazakhstan</td>,\n",
       " <td>Nur-Sultan</td>,\n",
       " <td>2,724,900</td>,\n",
       " <td>18,994,962</td>,\n",
       " <td>Kuwait</td>,\n",
       " <td>Kuwait City</td>,\n",
       " <td>17,818</td>,\n",
       " <td>4,328,550</td>,\n",
       " <td>Kyrgyzstan</td>,\n",
       " <td>Bishkek</td>,\n",
       " <td>199,951</td>,\n",
       " <td>6,628,356</td>,\n",
       " <td>Laos</td>,\n",
       " <td>Vientiane</td>,\n",
       " <td>236,800</td>,\n",
       " <td>7,379,358</td>,\n",
       " <td>Lebanon</td>,\n",
       " <td>Beirut</td>,\n",
       " <td>10,400</td>,\n",
       " <td>6,769,146</td>,\n",
       " <td>Macau</td>,\n",
       " <td>Macau</td>,\n",
       " <td>115</td>,\n",
       " <td>658,394</td>,\n",
       " <td>Malaysia</td>,\n",
       " <td>Kuala Lumpur</td>,\n",
       " <td>329,847</td>,\n",
       " <td>32,776,194</td>,\n",
       " <td>Maldives</td>,\n",
       " <td>Malé</td>,\n",
       " <td>298</td>,\n",
       " <td>543,617</td>,\n",
       " <td>Mongolia</td>,\n",
       " <td>Ulaanbaatar</td>,\n",
       " <td>1,564,116</td>,\n",
       " <td>3,329,289</td>,\n",
       " <td>Myanmar</td>,\n",
       " <td>Naypyidaw</td>,\n",
       " <td>676,578</td>,\n",
       " <td>54,806,012</td>,\n",
       " <td>Nepal</td>,\n",
       " <td>Kathmandu</td>,\n",
       " <td>147,181</td>,\n",
       " <td>29,674,920</td>,\n",
       " <td>North Korea</td>,\n",
       " <td>Pyongyang</td>,\n",
       " <td>120,538</td>,\n",
       " <td>25,887,041</td>,\n",
       " <td>Oman</td>,\n",
       " <td>Muscat</td>,\n",
       " <td>309,500</td>,\n",
       " <td>5,223,375</td>,\n",
       " <td>Pakistan</td>,\n",
       " <td>Islamabad</td>,\n",
       " <td>881,913</td>,\n",
       " <td>225,199,937</td>,\n",
       " <td>Palestine</td>,\n",
       " <td>Ramallah</td>,\n",
       " <td>6,220</td>,\n",
       " <td>5,222,748</td>,\n",
       " <td>Qatar</td>,\n",
       " <td>Doha</td>,\n",
       " <td>11,586</td>,\n",
       " <td>2,930,528</td>,\n",
       " <td>Russia</td>,\n",
       " <td>Moscow</td>,\n",
       " <td>17,098,242</td>,\n",
       " <td>145,734,038</td>,\n",
       " <td>Saudi Arabia</td>,\n",
       " <td>Riyadh</td>,\n",
       " <td>2,149,690</td>,\n",
       " <td>35,340,683</td>,\n",
       " <td>Singapore</td>,\n",
       " <td>Singapore</td>,\n",
       " <td>697</td>,\n",
       " <td>5,896,686</td>,\n",
       " <td>South Korea</td>,\n",
       " <td>Seoul</td>,\n",
       " <td>100,210</td>,\n",
       " <td>51,305,186</td>,\n",
       " <td>Sri Lanka</td>,\n",
       " <td>Sri Jayawardenepura Kotte</td>,\n",
       " <td>65,610</td>,\n",
       " <td>21,497,310</td>,\n",
       " <td>Syria</td>,\n",
       " <td>Damascus</td>,\n",
       " <td>185,180</td>,\n",
       " <td>18,275,702</td>,\n",
       " <td>Taiwan</td>,\n",
       " <td>Taipei</td>,\n",
       " <td>36,193</td>,\n",
       " <td>23,855,010</td>,\n",
       " <td>Tajikistan</td>,\n",
       " <td>Dushanbe</td>,\n",
       " <td>143,100</td>,\n",
       " <td>9,749,627</td>,\n",
       " <td>Thailand</td>,\n",
       " <td>Bangkok</td>,\n",
       " <td>513,120</td>,\n",
       " <td>69,950,850</td>,\n",
       " <td>The Philippines</td>,\n",
       " <td>Manila</td>,\n",
       " <td>343,448</td>,\n",
       " <td>111,046,913</td>,\n",
       " <td>Turkey</td>,\n",
       " <td>Ankara</td>,\n",
       " <td>783,562</td>,\n",
       " <td>85,042,738</td>,\n",
       " <td>Turkmenistan</td>,\n",
       " <td>Ashgabat</td>,\n",
       " <td>488,100</td>,\n",
       " <td>6,117,924</td>,\n",
       " <td>United Arab Emirates</td>,\n",
       " <td>Abu Dhabi</td>,\n",
       " <td>83,600</td>,\n",
       " <td>9,991,089</td>,\n",
       " <td>Uzbekistan</td>,\n",
       " <td>Tashkent</td>,\n",
       " <td>447,400</td>,\n",
       " <td>33,935,763</td>,\n",
       " <td>Vietnam</td>,\n",
       " <td>Hanoi</td>,\n",
       " <td>331,212</td>,\n",
       " <td>98,168,833</td>,\n",
       " <td>Yemen</td>,\n",
       " <td>Sana’a</td>,\n",
       " <td>527,968</td>,\n",
       " <td>30,490,640</td>]"
      ]
     },
     "execution_count": 35,
     "metadata": {},
     "output_type": "execute_result"
    }
   ],
   "source": [
    "rows=tables[1].find_all(\"td\")\n",
    "rows"
   ]
  },
  {
   "cell_type": "code",
   "execution_count": 45,
   "id": "313d9e98-5c53-4f7f-8ff0-fb430d398d32",
   "metadata": {},
   "outputs": [
    {
     "data": {
      "text/plain": [
       "['\\n\\n\\nArea\\n44.57 million km²\\n\\n\\nNumber of countries\\n51 (49 recognized by the UN)\\n\\n\\nPopulation\\n4.561 billion\\n\\n\\nNumber of languages spoken\\n2,300 languages across the continent\\n\\n\\nBiggest country (by area)\\nChina (9.6 million km²)\\n\\n\\nMost populated country\\nChina (1.4 billion)\\n\\n\\nHighest mountain\\nMount Everest\\n\\n\\nLongest river\\nYangtze (Cháng Jiāng) in China\\n\\n\\nLargest lake\\nBaikal Lake in Russia\\n\\n\\n',\n",
       " '\\n\\n\\nCountry\\nCapital\\nArea km2\\nPopulation (2021)\\n\\n\\n\\n\\nAfghanistan\\nKabul\\n652,864\\n39,835,428\\n\\n\\nArmenia\\nYerevan\\n29,743\\n2,968,127\\n\\n\\nAzerbaijan\\nBaku\\n86,600\\n10,223,342\\n\\n\\nBahrain\\nManama\\n760\\n1,748,296\\n\\n\\nBangladesh\\nDhaka\\n147,570\\n166,303,498\\n\\n\\nBhutan\\nThimphu\\n38,394\\n779,898\\n\\n\\nBrunei\\nBandar Seri Begawan\\n5,765\\n441,532\\n\\n\\nCambodia\\nPhnom Penh\\n181,035\\n16,946,438\\n\\n\\nChina (PRC)\\nBeijing\\n9,596,961\\n1,444,216,107\\n\\n\\nEast Timor\\nDili\\n14,874\\n1,343,873\\n\\n\\nGeorgia\\nTbilisi\\n69,700\\n3,979,765\\n\\n\\nHong Kong\\nCity of Victoria\\n2,755\\n7,552,810\\n\\n\\nIndia\\nNew Delhi\\n3,287,263\\n1,393,409,038\\n\\n\\nIndonesia\\nJakarta\\n1,904,569\\n276,361,783\\n\\n\\nIran\\nTehran\\n1,648,195\\n85,028,759\\n\\n\\nIraq\\nBaghdad\\n438,317\\n41,179,350\\n\\n\\nIsrael\\nJerusalem (disputed)\\n20,770\\n8,789,774\\n\\n\\nJapan\\nTokyo\\n377,915\\n126,050,804\\n\\n\\nJordan\\nAmman\\n89,342\\n10,269,021\\n\\n\\nKazakhstan\\nNur-Sultan\\n2,724,900\\n18,994,962\\n\\n\\nKuwait\\nKuwait City\\n17,818\\n4,328,550\\n\\n\\nKyrgyzstan\\nBishkek\\n199,951\\n6,628,356\\n\\n\\nLaos\\nVientiane\\n236,800\\n7,379,358\\n\\n\\nLebanon\\nBeirut\\n10,400\\n6,769,146\\n\\n\\nMacau\\nMacau\\n115\\n658,394\\n\\n\\nMalaysia\\nKuala Lumpur\\n329,847\\n32,776,194\\n\\n\\nMaldives\\nMalé\\n298\\n543,617\\n\\n\\nMongolia\\nUlaanbaatar\\n1,564,116\\n3,329,289\\n\\n\\nMyanmar\\nNaypyidaw\\n676,578\\n54,806,012\\n\\n\\nNepal\\nKathmandu\\n147,181\\n29,674,920\\n\\n\\nNorth Korea\\nPyongyang\\n120,538\\n25,887,041\\n\\n\\nOman\\nMuscat\\n309,500\\n5,223,375\\n\\n\\nPakistan\\nIslamabad\\n881,913\\n225,199,937\\n\\n\\nPalestine\\nRamallah\\n6,220\\n5,222,748\\n\\n\\nQatar\\nDoha\\n11,586\\n2,930,528\\n\\n\\nRussia\\nMoscow\\n17,098,242\\n145,734,038\\n\\n\\nSaudi Arabia\\nRiyadh\\n2,149,690\\n35,340,683\\n\\n\\nSingapore\\nSingapore\\n697\\n5,896,686\\n\\n\\nSouth Korea\\nSeoul\\n100,210\\n51,305,186\\n\\n\\nSri Lanka\\nSri Jayawardenepura Kotte\\n65,610\\n21,497,310\\n\\n\\nSyria\\nDamascus\\n185,180\\n18,275,702\\n\\n\\nTaiwan\\nTaipei\\n36,193\\n23,855,010\\n\\n\\nTajikistan\\nDushanbe\\n143,100\\n9,749,627\\n\\n\\nThailand\\nBangkok\\n513,120\\n69,950,850\\n\\n\\nThe Philippines\\nManila\\n343,448\\n111,046,913\\n\\n\\nTurkey\\nAnkara\\n783,562\\n85,042,738\\n\\n\\nTurkmenistan\\nAshgabat\\n488,100\\n6,117,924\\n\\n\\nUnited Arab Emirates\\nAbu Dhabi\\n83,600\\n9,991,089\\n\\n\\nUzbekistan\\nTashkent\\n447,400\\n33,935,763\\n\\n\\nVietnam\\nHanoi\\n331,212\\n98,168,833\\n\\n\\nYemen\\nSana’a\\n527,968\\n30,490,640\\n\\n\\n',\n",
       " '\\n\\n\\nLanguage\\nRegions\\nNumber of speakers\\n\\n\\n\\n\\nChinese Mandarin\\nChina\\nSingapore\\n1,2 billion\\n\\n\\nHindi\\nIndia\\n550 million\\n\\n\\nRussian\\nRussia\\nAbkhazia\\nKazakhstan\\nKyrgyzstan\\nSouth Ossetia\\nTajikistan\\nTurkmenistan\\nUzbekistan\\n260 million\\n\\n\\nIndonesian\\nIndonesia\\n240million\\n\\n\\nArabic\\nBahrain\\nIraq\\nJordan\\nKuwait\\nLebanon\\nOman\\nPalestine\\nQatar\\nSaudi Arabia\\nSyria\\nUAE\\nYemen\\n230 million\\n\\n\\nBengali\\nBangladesh\\n230 million\\n\\n\\nPersian\\nAfghanistan\\nIran\\nTajikistan\\n130 million\\n\\n\\nJapanese\\nJapan\\n120 million\\n\\n\\nPunjabi\\nIndia\\nPakistan\\n100 million\\n\\n\\nFilipino\\nPhilippines\\n93 million\\n\\n\\n']"
      ]
     },
     "execution_count": 45,
     "metadata": {},
     "output_type": "execute_result"
    }
   ],
   "source": [
    "data=[i.text for i in tables]\n",
    "data"
   ]
  },
  {
   "cell_type": "code",
   "execution_count": 47,
   "id": "41d6164e-0e85-4870-994d-67bac1db23c9",
   "metadata": {},
   "outputs": [
    {
     "data": {
      "text/plain": [
       "{'TABLES': ['\\n\\n\\nArea\\n44.57 million km²\\n\\n\\nNumber of countries\\n51 (49 recognized by the UN)\\n\\n\\nPopulation\\n4.561 billion\\n\\n\\nNumber of languages spoken\\n2,300 languages across the continent\\n\\n\\nBiggest country (by area)\\nChina (9.6 million km²)\\n\\n\\nMost populated country\\nChina (1.4 billion)\\n\\n\\nHighest mountain\\nMount Everest\\n\\n\\nLongest river\\nYangtze (Cháng Jiāng) in China\\n\\n\\nLargest lake\\nBaikal Lake in Russia\\n\\n\\n',\n",
       "  '\\n\\n\\nCountry\\nCapital\\nArea km2\\nPopulation (2021)\\n\\n\\n\\n\\nAfghanistan\\nKabul\\n652,864\\n39,835,428\\n\\n\\nArmenia\\nYerevan\\n29,743\\n2,968,127\\n\\n\\nAzerbaijan\\nBaku\\n86,600\\n10,223,342\\n\\n\\nBahrain\\nManama\\n760\\n1,748,296\\n\\n\\nBangladesh\\nDhaka\\n147,570\\n166,303,498\\n\\n\\nBhutan\\nThimphu\\n38,394\\n779,898\\n\\n\\nBrunei\\nBandar Seri Begawan\\n5,765\\n441,532\\n\\n\\nCambodia\\nPhnom Penh\\n181,035\\n16,946,438\\n\\n\\nChina (PRC)\\nBeijing\\n9,596,961\\n1,444,216,107\\n\\n\\nEast Timor\\nDili\\n14,874\\n1,343,873\\n\\n\\nGeorgia\\nTbilisi\\n69,700\\n3,979,765\\n\\n\\nHong Kong\\nCity of Victoria\\n2,755\\n7,552,810\\n\\n\\nIndia\\nNew Delhi\\n3,287,263\\n1,393,409,038\\n\\n\\nIndonesia\\nJakarta\\n1,904,569\\n276,361,783\\n\\n\\nIran\\nTehran\\n1,648,195\\n85,028,759\\n\\n\\nIraq\\nBaghdad\\n438,317\\n41,179,350\\n\\n\\nIsrael\\nJerusalem (disputed)\\n20,770\\n8,789,774\\n\\n\\nJapan\\nTokyo\\n377,915\\n126,050,804\\n\\n\\nJordan\\nAmman\\n89,342\\n10,269,021\\n\\n\\nKazakhstan\\nNur-Sultan\\n2,724,900\\n18,994,962\\n\\n\\nKuwait\\nKuwait City\\n17,818\\n4,328,550\\n\\n\\nKyrgyzstan\\nBishkek\\n199,951\\n6,628,356\\n\\n\\nLaos\\nVientiane\\n236,800\\n7,379,358\\n\\n\\nLebanon\\nBeirut\\n10,400\\n6,769,146\\n\\n\\nMacau\\nMacau\\n115\\n658,394\\n\\n\\nMalaysia\\nKuala Lumpur\\n329,847\\n32,776,194\\n\\n\\nMaldives\\nMalé\\n298\\n543,617\\n\\n\\nMongolia\\nUlaanbaatar\\n1,564,116\\n3,329,289\\n\\n\\nMyanmar\\nNaypyidaw\\n676,578\\n54,806,012\\n\\n\\nNepal\\nKathmandu\\n147,181\\n29,674,920\\n\\n\\nNorth Korea\\nPyongyang\\n120,538\\n25,887,041\\n\\n\\nOman\\nMuscat\\n309,500\\n5,223,375\\n\\n\\nPakistan\\nIslamabad\\n881,913\\n225,199,937\\n\\n\\nPalestine\\nRamallah\\n6,220\\n5,222,748\\n\\n\\nQatar\\nDoha\\n11,586\\n2,930,528\\n\\n\\nRussia\\nMoscow\\n17,098,242\\n145,734,038\\n\\n\\nSaudi Arabia\\nRiyadh\\n2,149,690\\n35,340,683\\n\\n\\nSingapore\\nSingapore\\n697\\n5,896,686\\n\\n\\nSouth Korea\\nSeoul\\n100,210\\n51,305,186\\n\\n\\nSri Lanka\\nSri Jayawardenepura Kotte\\n65,610\\n21,497,310\\n\\n\\nSyria\\nDamascus\\n185,180\\n18,275,702\\n\\n\\nTaiwan\\nTaipei\\n36,193\\n23,855,010\\n\\n\\nTajikistan\\nDushanbe\\n143,100\\n9,749,627\\n\\n\\nThailand\\nBangkok\\n513,120\\n69,950,850\\n\\n\\nThe Philippines\\nManila\\n343,448\\n111,046,913\\n\\n\\nTurkey\\nAnkara\\n783,562\\n85,042,738\\n\\n\\nTurkmenistan\\nAshgabat\\n488,100\\n6,117,924\\n\\n\\nUnited Arab Emirates\\nAbu Dhabi\\n83,600\\n9,991,089\\n\\n\\nUzbekistan\\nTashkent\\n447,400\\n33,935,763\\n\\n\\nVietnam\\nHanoi\\n331,212\\n98,168,833\\n\\n\\nYemen\\nSana’a\\n527,968\\n30,490,640\\n\\n\\n',\n",
       "  '\\n\\n\\nLanguage\\nRegions\\nNumber of speakers\\n\\n\\n\\n\\nChinese Mandarin\\nChina\\nSingapore\\n1,2 billion\\n\\n\\nHindi\\nIndia\\n550 million\\n\\n\\nRussian\\nRussia\\nAbkhazia\\nKazakhstan\\nKyrgyzstan\\nSouth Ossetia\\nTajikistan\\nTurkmenistan\\nUzbekistan\\n260 million\\n\\n\\nIndonesian\\nIndonesia\\n240million\\n\\n\\nArabic\\nBahrain\\nIraq\\nJordan\\nKuwait\\nLebanon\\nOman\\nPalestine\\nQatar\\nSaudi Arabia\\nSyria\\nUAE\\nYemen\\n230 million\\n\\n\\nBengali\\nBangladesh\\n230 million\\n\\n\\nPersian\\nAfghanistan\\nIran\\nTajikistan\\n130 million\\n\\n\\nJapanese\\nJapan\\n120 million\\n\\n\\nPunjabi\\nIndia\\nPakistan\\n100 million\\n\\n\\nFilipino\\nPhilippines\\n93 million\\n\\n\\n']}"
      ]
     },
     "execution_count": 47,
     "metadata": {},
     "output_type": "execute_result"
    }
   ],
   "source": [
    "DIC={\"TABLES\":data}\n",
    "DIC"
   ]
  },
  {
   "cell_type": "code",
   "execution_count": null,
   "id": "e14f3947-a881-4400-a4a5-76d16be28533",
   "metadata": {},
   "outputs": [],
   "source": []
  }
 ],
 "metadata": {
  "kernelspec": {
   "display_name": "Python 3 (ipykernel)",
   "language": "python",
   "name": "python3"
  },
  "language_info": {
   "codemirror_mode": {
    "name": "ipython",
    "version": 3
   },
   "file_extension": ".py",
   "mimetype": "text/x-python",
   "name": "python",
   "nbconvert_exporter": "python",
   "pygments_lexer": "ipython3",
   "version": "3.12.4"
  }
 },
 "nbformat": 4,
 "nbformat_minor": 5
}
